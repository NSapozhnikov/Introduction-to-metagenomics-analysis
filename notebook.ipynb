{
 "cells": [
  {
   "cell_type": "markdown",
   "metadata": {},
   "source": [
    "# Introduction to metagenomics analysis\n",
    "\n",
    "BI practicum 7\n",
    "\n",
    "In this project we will be using samples from dental calculus, and will compare them with the samples from the ancient tooth roots.\n",
    "\n",
    "\n"
   ]
  },
  {
   "cell_type": "markdown",
   "metadata": {},
   "source": [
    "## Part 1"
   ]
  },
  {
   "cell_type": "markdown",
   "metadata": {},
   "source": [
    "### 1.1. Data"
   ]
  },
  {
   "cell_type": "markdown",
   "metadata": {},
   "source": [
    "I uploaded raw data on the [Figshare repository](https://figshare.com/articles/_Dead_man_s_teeth_dataset/12152040), along with some additional files.\n"
   ]
  },
  {
   "cell_type": "markdown",
   "metadata": {},
   "source": [
    "### 1.2. Analysis Pipeline"
   ]
  },
  {
   "cell_type": "markdown",
   "metadata": {},
   "source": [
    "#### 1.2.1. Amplicon sequencing.\n"
   ]
  },
  {
   "cell_type": "markdown",
   "metadata": {},
   "source": [
    "The output of the sequencing machine is a lot of fragments, each corresponding to a different molecule from the different species you are studying. Some of them are more abundant, some less; we don't know which yet, but now we're going to try to separate these fragments into several piles and try to show that sets of similar fragments originate from the same organism.\n",
    "\n",
    "DNA sequences can be conservative: the same sequence can be found without too many changes in several species. That's why we cannot tell in advance whether a certain sequence we’ve amplified corresponds to a particular species or genus. For a particularly slow-evolving gene, we may not even be able to tell if it's in the same family! In this case, we can call each of these piles an “Operational Taxonomical Unit” or OTU, and then try to attribute it to one branch on the Tree of Life.\n"
   ]
  },
  {
   "cell_type": "markdown",
   "metadata": {},
   "source": [
    "##### 1.2.1A. Qiime2-based\n"
   ]
  },
  {
   "cell_type": "markdown",
   "metadata": {},
   "source": [
    "- install qiime2\n",
    "```\n",
    "conda install qiime2::qiime2\n",
    "```\n",
    "\n",
    "We have single-end reads in FASTQ format with Phred33 encoding.\n",
    "\n",
    "- importing data\n",
    "```\n",
    "qiime tools import \\\n",
    "    --type 'SampleData[SequencesWithQuality]' \\\n",
    "    --input-path data/manifest.tsv \\\n",
    "    --output-path data/sequences.qza \\\n",
    "    --input-format SingleEndFastqManifestPhred33V2\n",
    "```\n",
    "\n",
    "*Which didn't work as qiime: command not found.* \n",
    "\n",
    "Thus the [archive](https://drive.google.com/file/d/1SIF8T6uaD-kYIQLrOZhYofRkNUD-I920/view?usp=share_link) was downloaded"
   ]
  },
  {
   "cell_type": "markdown",
   "metadata": {},
   "source": [
    "- Demultiplexing and QC\n",
    "\n",
    "Our reads are already demultiplexed (1 sample per file). Now it is useful to explore how many sequences were obtained per sample, and to get a summary of the distribution of sequence qualities.\n",
    "\n",
    "```\n",
    "qiime demux summarize \\\n",
    "    --i-data data/sequences.qza \\\n",
    "    --o-visualization data/sequences.qzv\n",
    "```\n",
    "\n",
    "[Archive](https://drive.google.com/file/d/12j6nHQSCaUipj7SBGfqSJyN9CTP047qW/view?usp=share_link)"
   ]
  },
  {
   "cell_type": "markdown",
   "metadata": {},
   "source": [
    "- Visualize any .qzv file at https://view.qiime2.org/\n",
    "\n",
    "![hist](img/fwd_QC_hist.PNG)\n",
    "\n",
    "![interractive](img/interractive_qc.PNG)"
   ]
  },
  {
   "cell_type": "markdown",
   "metadata": {},
   "source": [
    "-  Feature table construction (and more QC)\n",
    "\n",
    "We need to strip a barcode and primer sequences out, and filter chimeric sequences. Here we will use the DADA2 pipeline, as follows:\n",
    "```\n",
    "qiime dada2 denoise-single \\\n",
    "    --i-demultiplexed-seqs data/sequences.qza \\\n",
    "    --p-trim-left 35 \\\n",
    "    --p-trunc-len 140 \\\n",
    "    --o-representative-sequences data/rep-seqs.qza \\\n",
    "    --o-table data/table.qza \\\n",
    "    --o-denoising-stats data/stats.qza\n",
    "```\n",
    "\n",
    "output: [1](https://drive.google.com/file/d/1koKfoHp-Au9nmd0UcyJwR9FnozrTD0WA/view?usp=share_link), [2](https://drive.google.com/file/d/1DCKyHO6vQqMfsFENa9WH58w9wFEjrS31/view?usp=share_link) , [3](https://drive.google.com/file/d/1mBro_JC3-4dDoUzifVdNi4NzjTenK2u_/view?usp=share_link)\n",
    "\n",
    "Here we need to select value m for --p-trim-left as a total length of the artificial sequences (barcodes), and value n for  --p-trunc-len  according to Interactive Quality Plot tab in the sequences.qzv (it’s going to be a total length of the sequence after the trimming). \n",
    "In our case we know that the primer + adapter length is about 35 bp, and amplicon size is about 145 bp. m = 35 and n = 140 can be a reasonable choice in this case.\n",
    "\n",
    "Check how many reads are passed the filter and were clustered:\n",
    "```\n",
    "qiime metadata tabulate \\\n",
    "    --m-input-file data/stats.qza \\\n",
    "    --o-visualization data/stats.qzv\n",
    "```\n",
    "\n",
    "[output](https://drive.google.com/file/d/1X5g5HbFXjBqBFPZRCrge2Iq2s10oam3K/view?usp=share_link) \n",
    "\n",
    "![filtered result](img/filtered.PNG)"
   ]
  },
  {
   "cell_type": "markdown",
   "metadata": {},
   "source": [
    "- FeatureTable and FeatureData summaries\n",
    "\n",
    "One of the main results of the DADA2 step is a clustering into an amplicon sequence variant (ASV) - a higher-resolution analogue of the traditional Operational Taxonomical Units.  Thus, the Feature Table we just obtained is an equivalent of the OTU tables in other metagenomic pipelines. \n",
    "\n",
    "A feature is essentially any unit of observation, e.g., an OTU, a sequence variant, a gene, a metabolite, etc, and a feature table is a matrix of sample X feature abundances (the number of times each feature was observed in each sample). In this case we can think of features as OTUs.\n",
    "\n",
    "First, let’s create visual summaries of the data - how many sequences are associated with each sample and with each feature, etc.\n",
    "\n",
    "```\n",
    "qiime feature-table summarize \\\n",
    "    --i-table data/table.qza \\\n",
    "    --o-visualization data/table.qzv \\\n",
    "    --m-sample-metadata-file data/sample-metadata.tsv\n",
    "```\n",
    "\n",
    "[output](https://drive.google.com/file/d/1FxPbOU8V0kDpKwxQ-VYWjIfPd0fxzyjo/view?usp=share_link)"
   ]
  },
  {
   "cell_type": "markdown",
   "metadata": {},
   "source": [
    "Then we can map feature IDs to sequences, to use these representative sequences in other applications, e.g. BLAST each sequence against the NCBI nt database.\n",
    "```\n",
    "qiime feature-table tabulate-seqs \\\n",
    "    --i-data data/rep-seqs.qza \\\n",
    "    --o-visualization data/rep-seqs.qzv\n",
    "```\n",
    "\n",
    "[output](https://drive.google.com/file/d/1XuG-ljhUQP7w8tHz23OzeLX6KCNG6pBq/view?usp=share_link)\n",
    "\n",
    "A file with fastas which are 105bp length each"
   ]
  },
  {
   "cell_type": "markdown",
   "metadata": {},
   "source": [
    "- Taxonomic analysis\n",
    "\n",
    "Now we can compare the representative sequences with the taxonomy database, and get the answer to our first question: who lives here?\n",
    "\n",
    "We need the [database](https://docs.qiime2.org/2024.2/data-resources/#silva-16s-18s-rrna) itself\n",
    "Database itself is just a fasta file of the 16S representatives, and QIIME2 uses Naive Bayes classifiers. [Here](https://disk.yandex.ru/d/QxQWKV8x5ucxvw) is the pretrained classifier. \n",
    "\n",
    "```\n",
    "qiime feature-classifier classify-sklearn \\\n",
    "    --i-classifier data/silva-138-99-nb-classifier.qza \\\n",
    "    --i-reads data/rep-seqs.qza \\\n",
    "    --o-classification data/taxonomy.qza\n",
    "```\n",
    "\n",
    "[output](https://drive.google.com/file/d/1x_Ydxf55LarLzr8xUor3zOQU-_u8_DKI/view?usp=share_link)\n",
    "\n",
    "And visualise:\n",
    "```\n",
    "qiime metadata tabulate \\\n",
    "    --m-input-file data/taxonomy.qza \\\n",
    "    --o-visualization data/taxonomy.qzv\n",
    "```\n",
    "\n",
    "[output](https://drive.google.com/file/d/1tYyYy_eOmIxXs-AWakRh4hp-CAxktADY/view?usp=share_link)\n",
    "\n",
    "\n",
    "Next, we can view the taxonomic composition of our samples with interactive bar plots. Generate those plots with the following command and then open the visualization.\n",
    "\n",
    "```\n",
    "qiime taxa barplot \\\n",
    "  --i-table data/table.qza \\\n",
    "  --i-taxonomy data/taxonomy.qza \\\n",
    "  --m-metadata-file data/sample-metadata.tsv \\\n",
    "  --o-visualization data/taxa-bar-plots.qzv\n",
    "```\n",
    "\n",
    "[output](https://drive.google.com/file/d/1Q_c7AdTuai9VHMNWCSDLhbJkFBBTdJ2W/view?usp=share_link)\n",
    "\n",
    "This is a second level of taxonomy\n",
    "\n",
    "![taxonomy](img/bars_lvl2.PNG)"
   ]
  },
  {
   "cell_type": "markdown",
   "metadata": {},
   "source": [
    "To further analize the data exporting the data to an ASV table and taxonomy file, and making a few adjustments to the metadata file are needed to be done. To avoid the formatting hassle, it is better to use BIOM binary format. We only need a few commands:\n",
    "\n",
    "*at this point I figured out the installation of qiime to conda*\n",
    "\n",
    "* Export ASV table to biom file:\n",
    "\n",
    "```\n",
    "qiime tools export --input-path data/table.qza --output-path data/export_biom\n",
    "```\n",
    "\n",
    "* Export taxonomy  table:\n",
    "\n",
    "```\n",
    "qiime tools export --input-path  data/taxonomy.qza --output-path data/export_biom\n",
    "```\n",
    "\n",
    "* Add taxonomy information to biom file:\n",
    "\n",
    "```\n",
    "biom add-metadata -i data/export_biom/feature-table.biom -o data/export_biom/feature-table-with-taxonomy.biom --observation-metadata-fp data/export_biom/taxonomy.tsv --sc-separated taxonomy --observation-header OTUID,taxonomy,confidence\n",
    "```\n",
    "\n",
    "* Fix header of the metadata file:\n",
    "```\n",
    "sed  's/SampleID/NAME/g' data/sample-metadata.tsv > data/sample-metadata.txt\n",
    "```\n",
    "\n",
    "A powerful online tool - [MicrobiomeAnalyst](https://www.microbiomeanalyst.ca/MicrobiomeAnalyst/ModuleView.xhtml)"
   ]
  },
  {
   "cell_type": "markdown",
   "metadata": {},
   "source": [
    "##### 1.2.1B. DADA2-based\n"
   ]
  },
  {
   "cell_type": "markdown",
   "metadata": {},
   "source": [
    "Alternatively we can use R packages. See teeth.Rmd"
   ]
  },
  {
   "cell_type": "markdown",
   "metadata": {},
   "source": [
    "### 1.3. Result Interpretation\n"
   ]
  },
  {
   "cell_type": "markdown",
   "metadata": {},
   "source": [
    "We are looking for bacteria from the \"red complex\": Porphyromonas gingivalis, Tannerella forsythia, Treponema denticola which are responsible for causing severe forms of periodontal disease.\n",
    "\n",
    "Rarefaction curves\n",
    "\n",
    "![rarefaction curve](img/rarefaction_curve_1.png)\n",
    "\n",
    "Filtered abundance view\n",
    "\n",
    "![abundance](img/families_paradont.PNG)\n",
    "\n",
    "On this picture samples are organized by peridontal disease and only families from the \"red complex\" are shown. Samples with the disease do have all 3 families of microorganisms while samples with out it have only 2. Althogh niether of these families are shown on the top-10 taxa which indicates their relatively small abundance. \n"
   ]
  },
  {
   "cell_type": "markdown",
   "metadata": {},
   "source": [
    "## Part 2. Shotgun sequencing"
   ]
  },
  {
   "cell_type": "markdown",
   "metadata": {},
   "source": [
    "Well, now we will be analyzing shotgun sequencing (whole genome) data. We will try to obtain the ancient sequence of these pathogens and compare them with modern one.\n",
    "\n",
    "We realized that 1000 years ago periodontal disease was caused by the same bacteria that we can find now in our mouth. But we know that bacteria evolve very quickly, and we have a unique opportunity to explore how it happens.\n",
    "\n",
    "To investigate it, an affected individual G12 was selected for a dental calculus whole metagenome shotgun sequencing, and reads were assembled into contigs. Metagenome assembly is based on the same principles as for prokaryotic assemblies - usually it is a modification of existing algorithms, taking into account coverage (we expect similar coverage for each OTU) and less aggressive error correction (because in metagenomic samples it can be natural variants or close strain).\n"
   ]
  },
  {
   "cell_type": "markdown",
   "metadata": {},
   "source": [
    "### 2.1. Data"
   ]
  },
  {
   "cell_type": "markdown",
   "metadata": {},
   "source": [
    "Assembly results can be downloaded [here](https://www.dropbox.com/s/f5j52tliumt6etm/G12_assembly.fna.gz?dl=0)"
   ]
  },
  {
   "cell_type": "markdown",
   "metadata": {},
   "source": [
    "#### 2.2. Shotgun sequence data profiling.\n"
   ]
  },
  {
   "cell_type": "markdown",
   "metadata": {},
   "source": [
    "We can classify reads to understand the composition of our samples in more detail - bacteria, viruses and eukaryotes as well. There are several tools and approaches for that, we will try kmer-based Kraken2.\n",
    "\n",
    "Kraken2 is trying to  assign the reads to different taxa based on a reference database of genomes. It works by comparing the k-mers in the reads to the k-mers in the reference database to determine the taxonomic origin of the reads.\n",
    "\n",
    "The problem with working with kraken is the very large size of the databases.\n",
    "\n",
    "Precalculated [results](https://drive.google.com/file/d/12GQBxlomcSSMvFI850tcXfU_JUJgCnJX/view?usp=sharing) and [report](https://drive.google.com/file/d/1AkzEXPCGvAnq4MKNMCIwE--r4769_t2-/view?usp=sharing)\n",
    "\n",
    "These are obtained through\n",
    "\n",
    "```\n",
    "conda install kraken2\n",
    "kraken2-build --standard --db $DBNAME\n",
    "kraken2 --db /path/to/kraken2_database --output output_file --report report_file input_fastq_file\n",
    "```\n",
    "This file contains the final computed organism abundances, listed one clade per line, tab-separated from the clade's percent abundance.\n"
   ]
  },
  {
   "cell_type": "markdown",
   "metadata": {},
   "source": [
    "#### 2.3. Visualization of the Kraken results as a Sankey diagram"
   ]
  },
  {
   "cell_type": "markdown",
   "metadata": {},
   "source": [
    "Use the [Pavian web application](https://fbreitwieser.shinyapps.io/pavian/) to visualise the classification results obtained with Kraken.\n",
    "\n",
    "Here is the top of reads in the shotgun sequencing. Compared to the MA it looks well defined, there are no 'other' or 'unknown' groups\n",
    "\n",
    "![pavian_example](img/pavian.PNG)\n",
    "\n",
    "![sunckey](img/sunckey.PNG)"
   ]
  },
  {
   "cell_type": "markdown",
   "metadata": {},
   "source": [
    "#### 2.4. Comparison with ancient Tannerella forsythia genome\n"
   ]
  },
  {
   "cell_type": "markdown",
   "metadata": {},
   "source": [
    "Our shotgun assembly is still pretty fragmented, so we will have to align our contigs to reference. Downloaded fasta and gff from [here](https://www.ncbi.nlm.nih.gov/nuccore/NC_016610.1)\n",
    "\n",
    "- index ref\n",
    "```\n",
    "cd data/Part2/\n",
    "bwa index tannerella_ref.fasta\n",
    "```\n",
    "\n",
    "- allign \n",
    "```\n",
    "bwa mem tannerella_ref.fasta G12_assembly.fna.gz > tannerella_align.sam\n",
    "```\n",
    "\n",
    "- compress sam\n",
    "```\n",
    "samtools view -S -b tannerella_align.sam > tannerella_align.bam\n",
    "```\n",
    "\n",
    "- Sort and index BAM file\n",
    "```\n",
    "samtools sort tannerella_align.bam -o tannerella_align.sorted.bam\n",
    "samtools index tannerella_align.sorted.bam\n",
    "```\n",
    "\n",
    "OR with pipes\n",
    "\n",
    "```\n",
    "bwa mem tannerella_ref.fasta G12_assembly.fna.gz | \\\n",
    "samtools view -S -b - | \\\n",
    "samtools sort -o tannerella_align.sorted.bam - && \\\n",
    "samtools index tannerella_align.sorted.bam\n",
    "```\n",
    "\n",
    "\n",
    "![igv](img/igv.PNG)\n",
    "\n",
    "We can see that some of the regions in the modern strain have zero coverage, and probably were obtained during the strain evolution. "
   ]
  },
  {
   "cell_type": "markdown",
   "metadata": {},
   "source": [
    "To automatically select these regions, we can use the bedtools package. \n",
    "\n",
    "first, turn obtained alignment file (BAM) to BED with bedtools bamtobed\n",
    "```\n",
    "bedtools bamtobed -i tannerella_align.sorted.bam > tannerella_align.sorted.bed\n",
    "```\n",
    "\n",
    "- then intersect with annotation file (GFF3) using bedtools intersect to keep only new regions in the modern strain (actually, we are doing subtraction, -v)\n",
    "```\n",
    "bedtools intersect -a tannerella_ref.gff3 -b tannerella_align.sorted.bed -v > tannerella.intersected.bed\n",
    "```\n"
   ]
  },
  {
   "cell_type": "code",
   "execution_count": 16,
   "metadata": {},
   "outputs": [
    {
     "name": "stdout",
     "output_type": "stream",
     "text": [
      "DUF3873 domain-containing protein\n",
      "Abi family protein\n",
      "TetR/AcrR family transcriptional regulator\n",
      "cell filamentation protein Fic\n",
      "DUF4372 domain-containing protein\n",
      "MMPL family transporter\n",
      "radical SAM protein\n",
      "lanthionine synthetase C family protein\n",
      "sigma-54 dependent transcriptional regulator\n",
      "IS110 family transposase\n",
      "transposase\n",
      "lanthionine synthetase LanC family protein\n",
      "ParA family protein\n",
      "PcfJ domain-containing protein\n",
      "DUF4134 domain-containing protein\n",
      "PH domain-containing protein\n",
      "galactosyltransferase-related protein\n",
      "conjugative transposon protein TraN\n",
      "DUF4974 domain-containing protein\n",
      "DUF4133 domain-containing protein\n",
      "Arm DNA-binding domain-containing protein\n",
      "ATP-binding protein\n",
      "IS4 family transposase\n",
      "DUF3408 domain-containing protein\n",
      "helicase\n",
      "rhodanese-like domain-containing protein\n",
      "DUF1896 domain-containing protein\n",
      "conjugal transfer protein MobA\n",
      "beta-ketoacyl-ACP synthase III\n",
      "type VI secretion system tube protein TssD\n",
      "conjugative transposon protein TraK\n",
      "four helix bundle protein\n",
      "AIPR family protein\n",
      "RteC domain-containing protein\n",
      "Fic family protein\n",
      "GNAT family N-acetyltransferase\n",
      "IS4-like element IS421 family transposase\n",
      "Z1 domain-containing protein\n",
      "very short patch repair endonuclease\n",
      "DUF3289 family protein\n",
      "dihydrofolate reductase family protein\n",
      "IS1 family transposase\n",
      "DVUA0089 family protein\n",
      "tetracycline resistance ribosomal protection protein\n",
      "lantibiotic dehydratase family protein\n",
      "helix-turn-helix domain-containing protein\n",
      "conjugative transposon protein TraJ\n",
      "PcfK-like family protein\n",
      "histidinol phosphate phosphatase\n",
      "ISL3 family transposase\n",
      "thiopeptide-type bacteriocin biosynthesis protein\n",
      "DUF3872 domain-containing protein\n",
      "TIGR04157 family glycosyltransferase\n",
      "SusD/RagB family nutrient-binding outer membrane lipoprotein\n",
      "DUF3876 domain-containing protein\n",
      "PD-(D/E)XK motif protein\n",
      "conjugal transfer protein MobB\n",
      "class I lanthipeptide\n",
      "conjugative transposon protein TraM\n",
      "DUF4141 domain-containing protein\n",
      "TIGR04150 pseudo-rSAM protein\n",
      "IS1595-like element ISTfo1 family transposase\n",
      "radical SAM peptide maturase\n",
      "DUF418 domain-containing protein\n",
      "nuclear transport factor 2 family protein\n",
      "outer membrane lipoprotein-sorting protein\n",
      "IS1595 family transposase\n",
      "hypothetical protein\n",
      "phosphorylase family\n",
      "TraL conjugative transposon family protein\n",
      "toprim domain-containing protein\n",
      "NVEALA domain-containing protein\n",
      "lysozyme\n",
      "site-specific integrase\n",
      "conjugal transfer protein TraO\n",
      "IS1380 family transposase\n",
      "6-bladed beta-propeller\n",
      "outer membrane beta-barrel family protein\n"
     ]
    }
   ],
   "source": [
    "def extract_gene_ids(intersected_file):\n",
    "    gene_ids = set()\n",
    "    with open(intersected_file, 'r') as file:\n",
    "        for line in file:\n",
    "            fields = line.strip().split('\\t')\n",
    "            gff_info = fields[8]\n",
    "            if 'Protein Homology' in fields:\n",
    "                for attribute in gff_info.split(';'):\n",
    "                    if attribute.strip().startswith('product='):\n",
    "                        gene_id = attribute.strip().split('=')[1]\n",
    "                        gene_ids.add(gene_id)\n",
    "    return gene_ids\n",
    "\n",
    "# Usage\n",
    "intersected_file = 'data/Part2/tannerella.intersected.bed'\n",
    "gene_ids = extract_gene_ids(intersected_file)\n",
    "\n",
    "# Print or save gene IDs\n",
    "for gene_id in gene_ids:\n",
    "    print(gene_id)"
   ]
  },
  {
   "cell_type": "markdown",
   "metadata": {},
   "source": [
    "There are some amount of transposase from different families which could be one of the main factors for evolution in bacteria."
   ]
  }
 ],
 "metadata": {
  "kernelspec": {
   "display_name": "Python 3",
   "language": "python",
   "name": "python3"
  },
  "language_info": {
   "codemirror_mode": {
    "name": "ipython",
    "version": 3
   },
   "file_extension": ".py",
   "mimetype": "text/x-python",
   "name": "python",
   "nbconvert_exporter": "python",
   "pygments_lexer": "ipython3",
   "version": "3.11.5"
  }
 },
 "nbformat": 4,
 "nbformat_minor": 2
}
